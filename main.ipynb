{
 "cells": [
  {
   "cell_type": "markdown",
   "source": [
    "### Project 1: Profit Estimation\n",
    "\n",
    "In this project we will be calculated an estimated profit for a company based on its expenses and the location. We will be using a dataset that contains the following columns:\n",
    "- State\n",
    "- Administration\n",
    "- Marketing Spend\n",
    "- R&D Spend\n",
    "- Profit\n",
    "\n",
    "In this we will be using Multiple Linear Regression to predict the profit based on the other columns. The steps would be as following:\n",
    "- Importing the Libraries\n",
    "- Studying the Dataset\n",
    "- Creating Pipelines\n",
    "- Calculating Model's Accuracy\n",
    "- Saving the Model\n",
    "- Creating Interface using Gradio"
   ],
   "metadata": {
    "collapsed": false
   },
   "id": "ab7ef0227cf483f4"
  },
  {
   "cell_type": "markdown",
   "source": [
    "#### Step 1: Importing the libraries"
   ],
   "metadata": {
    "collapsed": false
   },
   "id": "57135d58914048fd"
  },
  {
   "cell_type": "code",
   "outputs": [],
   "source": [
    "import matplotlib.pyplot as plt\n",
    "import numpy as np\n",
    "import pandas as pd\n",
    "from sklearn.model_selection import train_test_split\n",
    "from sklearn.linear_model import LinearRegression\n",
    "from sklearn.pipeline import Pipeline\n",
    "from sklearn.preprocessing import OneHotEncoder\n",
    "from sklearn.compose import ColumnTransformer\n",
    "from sklearn.preprocessing import StandardScaler\n",
    "from sklearn.metrics import mean_squared_error, mean_absolute_error, r2_score\n",
    "import joblib\n",
    "import gradio as gr"
   ],
   "metadata": {
    "collapsed": false,
    "ExecuteTime": {
     "end_time": "2024-03-29T20:01:12.277501Z",
     "start_time": "2024-03-29T20:01:12.274465Z"
    }
   },
   "id": "166fd9f854ab20a",
   "execution_count": 4
  },
  {
   "cell_type": "code",
   "outputs": [],
   "source": [
    "dataset_url = 'https://raw.githubusercontent.com/digipodium/Datasets/main/regression/50_Startups.csv'\n",
    "df = pd.read_csv(dataset_url)"
   ],
   "metadata": {
    "collapsed": false,
    "ExecuteTime": {
     "end_time": "2024-03-29T20:01:12.716088Z",
     "start_time": "2024-03-29T20:01:12.323789Z"
    }
   },
   "id": "aa2b4fb0e34a55b6",
   "execution_count": 5
  },
  {
   "cell_type": "markdown",
   "source": [
    "#### Step 2: Studying Data"
   ],
   "metadata": {
    "collapsed": false
   },
   "id": "41576999e9e51cac"
  },
  {
   "cell_type": "code",
   "outputs": [
    {
     "data": {
      "text/plain": "   R&D Spend  Administration  Marketing Spend       State     Profit\n0  165349.20       136897.80        471784.10    New York  192261.83\n1  162597.70       151377.59        443898.53  California  191792.06\n2  153441.51       101145.55        407934.54     Florida  191050.39\n3  144372.41       118671.85        383199.62    New York  182901.99\n4  142107.34        91391.77        366168.42     Florida  166187.94",
      "text/html": "<div>\n<style scoped>\n    .dataframe tbody tr th:only-of-type {\n        vertical-align: middle;\n    }\n\n    .dataframe tbody tr th {\n        vertical-align: top;\n    }\n\n    .dataframe thead th {\n        text-align: right;\n    }\n</style>\n<table border=\"1\" class=\"dataframe\">\n  <thead>\n    <tr style=\"text-align: right;\">\n      <th></th>\n      <th>R&amp;D Spend</th>\n      <th>Administration</th>\n      <th>Marketing Spend</th>\n      <th>State</th>\n      <th>Profit</th>\n    </tr>\n  </thead>\n  <tbody>\n    <tr>\n      <th>0</th>\n      <td>165349.20</td>\n      <td>136897.80</td>\n      <td>471784.10</td>\n      <td>New York</td>\n      <td>192261.83</td>\n    </tr>\n    <tr>\n      <th>1</th>\n      <td>162597.70</td>\n      <td>151377.59</td>\n      <td>443898.53</td>\n      <td>California</td>\n      <td>191792.06</td>\n    </tr>\n    <tr>\n      <th>2</th>\n      <td>153441.51</td>\n      <td>101145.55</td>\n      <td>407934.54</td>\n      <td>Florida</td>\n      <td>191050.39</td>\n    </tr>\n    <tr>\n      <th>3</th>\n      <td>144372.41</td>\n      <td>118671.85</td>\n      <td>383199.62</td>\n      <td>New York</td>\n      <td>182901.99</td>\n    </tr>\n    <tr>\n      <th>4</th>\n      <td>142107.34</td>\n      <td>91391.77</td>\n      <td>366168.42</td>\n      <td>Florida</td>\n      <td>166187.94</td>\n    </tr>\n  </tbody>\n</table>\n</div>"
     },
     "execution_count": 6,
     "metadata": {},
     "output_type": "execute_result"
    }
   ],
   "source": [
    "df.head()"
   ],
   "metadata": {
    "collapsed": false,
    "ExecuteTime": {
     "end_time": "2024-03-29T20:01:12.726138Z",
     "start_time": "2024-03-29T20:01:12.717361Z"
    }
   },
   "id": "d28934ca57fd2eb",
   "execution_count": 6
  },
  {
   "cell_type": "markdown",
   "source": [
    "There are 4 numerical columns (R & D Spend, Administration, Marketing Spend and Profit) and 1 categorical column (State). In this we would require to rename the columns for better understanding. Profit column will be our target column."
   ],
   "metadata": {
    "collapsed": false
   },
   "id": "77cdcc420edb8d99"
  },
  {
   "cell_type": "code",
   "outputs": [
    {
     "data": {
      "text/plain": "    Research  Administration  Marketing       State     Profit\n0  165349.20       136897.80  471784.10    New York  192261.83\n1  162597.70       151377.59  443898.53  California  191792.06\n2  153441.51       101145.55  407934.54     Florida  191050.39\n3  144372.41       118671.85  383199.62    New York  182901.99\n4  142107.34        91391.77  366168.42     Florida  166187.94",
      "text/html": "<div>\n<style scoped>\n    .dataframe tbody tr th:only-of-type {\n        vertical-align: middle;\n    }\n\n    .dataframe tbody tr th {\n        vertical-align: top;\n    }\n\n    .dataframe thead th {\n        text-align: right;\n    }\n</style>\n<table border=\"1\" class=\"dataframe\">\n  <thead>\n    <tr style=\"text-align: right;\">\n      <th></th>\n      <th>Research</th>\n      <th>Administration</th>\n      <th>Marketing</th>\n      <th>State</th>\n      <th>Profit</th>\n    </tr>\n  </thead>\n  <tbody>\n    <tr>\n      <th>0</th>\n      <td>165349.20</td>\n      <td>136897.80</td>\n      <td>471784.10</td>\n      <td>New York</td>\n      <td>192261.83</td>\n    </tr>\n    <tr>\n      <th>1</th>\n      <td>162597.70</td>\n      <td>151377.59</td>\n      <td>443898.53</td>\n      <td>California</td>\n      <td>191792.06</td>\n    </tr>\n    <tr>\n      <th>2</th>\n      <td>153441.51</td>\n      <td>101145.55</td>\n      <td>407934.54</td>\n      <td>Florida</td>\n      <td>191050.39</td>\n    </tr>\n    <tr>\n      <th>3</th>\n      <td>144372.41</td>\n      <td>118671.85</td>\n      <td>383199.62</td>\n      <td>New York</td>\n      <td>182901.99</td>\n    </tr>\n    <tr>\n      <th>4</th>\n      <td>142107.34</td>\n      <td>91391.77</td>\n      <td>366168.42</td>\n      <td>Florida</td>\n      <td>166187.94</td>\n    </tr>\n  </tbody>\n</table>\n</div>"
     },
     "execution_count": 7,
     "metadata": {},
     "output_type": "execute_result"
    }
   ],
   "source": [
    "df.rename(columns={'R&D Spend':'Research', 'Marketing Spend':'Marketing'}, inplace=True)\n",
    "df.head()"
   ],
   "metadata": {
    "collapsed": false,
    "ExecuteTime": {
     "end_time": "2024-03-29T20:01:12.732391Z",
     "start_time": "2024-03-29T20:01:12.727092Z"
    }
   },
   "id": "d9520d6774b92530",
   "execution_count": 7
  },
  {
   "cell_type": "code",
   "outputs": [
    {
     "name": "stdout",
     "output_type": "stream",
     "text": [
      "Research          0\n",
      "Administration    0\n",
      "Marketing         0\n",
      "State             0\n",
      "Profit            0\n",
      "dtype: int64\n"
     ]
    }
   ],
   "source": [
    "print(df.isnull().sum())"
   ],
   "metadata": {
    "collapsed": false,
    "ExecuteTime": {
     "end_time": "2024-03-29T20:01:12.738474Z",
     "start_time": "2024-03-29T20:01:12.734687Z"
    }
   },
   "id": "9487aa93f0afd9d1",
   "execution_count": 8
  },
  {
   "cell_type": "markdown",
   "source": [
    "Now we check the correlation between the columns with the target column."
   ],
   "metadata": {
    "collapsed": false
   },
   "id": "83ef68d48302064d"
  },
  {
   "cell_type": "code",
   "outputs": [
    {
     "data": {
      "text/plain": "<Figure size 640x480 with 1 Axes>",
      "image/png": "[encoded data removed]"
     },
     "metadata": {},
     "output_type": "display_data"
    },
    {
     "name": "stdout",
     "output_type": "stream",
     "text": [
      "97.29%\n"
     ]
    }
   ],
   "source": [
    "plt.plot(df['Research'], df['Profit'], 'o')\n",
    "plt.xlabel('Research')\n",
    "plt.ylabel('Profit')\n",
    "plt.show()\n",
    "print(f\"{df['Research'].corr(df['Profit']) * 100:.2f}%\")"
   ],
   "metadata": {
    "collapsed": false,
    "ExecuteTime": {
     "end_time": "2024-03-29T20:01:12.843354Z",
     "start_time": "2024-03-29T20:01:12.740431Z"
    }
   },
   "id": "d2556b456695480f",
   "execution_count": 9
  },
  {
   "cell_type": "code",
   "outputs": [
    {
     "data": {
      "text/plain": "<Figure size 640x480 with 1 Axes>",
      "image/png": "[encoded data removed]"
     },
     "metadata": {},
     "output_type": "display_data"
    },
    {
     "name": "stdout",
     "output_type": "stream",
     "text": [
      "20.07%\n"
     ]
    }
   ],
   "source": [
    "plt.plot(df['Administration'], df['Profit'], 'o')\n",
    "plt.xlabel('Administration')\n",
    "plt.ylabel('Profit')\n",
    "plt.show()\n",
    "print(f\"{df['Administration'].corr(df['Profit']) * 100:.2f}%\")"
   ],
   "metadata": {
    "collapsed": false,
    "ExecuteTime": {
     "end_time": "2024-03-29T20:01:12.940715Z",
     "start_time": "2024-03-29T20:01:12.845354Z"
    }
   },
   "id": "92ba93c16102c64c",
   "execution_count": 10
  },
  {
   "cell_type": "code",
   "outputs": [
    {
     "data": {
      "text/plain": "<Figure size 640x480 with 1 Axes>",
      "image/png": "[encoded data removed]"
     },
     "metadata": {},
     "output_type": "display_data"
    },
    {
     "name": "stdout",
     "output_type": "stream",
     "text": [
      "74.78%\n"
     ]
    }
   ],
   "source": [
    "plt.plot(df['Marketing'], df['Profit'], 'o')\n",
    "plt.xlabel('Marketing')\n",
    "plt.ylabel('Profit')\n",
    "plt.show()\n",
    "print(f\"{df['Marketing'].corr(df['Profit']) * 100:.2f}%\")"
   ],
   "metadata": {
    "collapsed": false,
    "ExecuteTime": {
     "end_time": "2024-03-29T20:01:13.018020Z",
     "start_time": "2024-03-29T20:01:12.943526Z"
    }
   },
   "id": "3ce38507ffb4612d",
   "execution_count": 11
  },
  {
   "cell_type": "markdown",
   "source": [
    "Here we can see that there are no null values, so we will not require to impute the data.\n",
    "We won't need to scale the data. However, we would require to encode the State column.\n",
    "Since, we know that the Administration column has a very low correlation with the Profit column, we can drop it."
   ],
   "metadata": {
    "collapsed": false
   },
   "id": "39a741d52572ff0e"
  },
  {
   "cell_type": "markdown",
   "source": [
    "#### Step 3: Creating Pipeline"
   ],
   "metadata": {
    "collapsed": false
   },
   "id": "ac8a039b5f5bee1f"
  },
  {
   "cell_type": "code",
   "outputs": [
    {
     "data": {
      "text/plain": "OneHotEncoder()",
      "text/html": "<style>#sk-container-id-1 {color: black;}#sk-container-id-1 pre{padding: 0;}#sk-container-id-1 div.sk-toggleable {background-color: white;}#sk-container-id-1 label.sk-toggleable__label {cursor: pointer;display: block;width: 100%;margin-bottom: 0;padding: 0.3em;box-sizing: border-box;text-align: center;}#sk-container-id-1 label.sk-toggleable__label-arrow:before {content: \"▸\";float: left;margin-right: 0.25em;color: #696969;}#sk-container-id-1 label.sk-toggleable__label-arrow:hover:before {color: black;}#sk-container-id-1 div.sk-estimator:hover label.sk-toggleable__label-arrow:before {color: black;}#sk-container-id-1 div.sk-toggleable__content {max-height: 0;max-width: 0;overflow: hidden;text-align: left;background-color: #f0f8ff;}#sk-container-id-1 div.sk-toggleable__content pre {margin: 0.2em;color: black;border-radius: 0.25em;background-color: #f0f8ff;}#sk-container-id-1 input.sk-toggleable__control:checked~div.sk-toggleable__content {max-height: 200px;max-width: 100%;overflow: auto;}#sk-container-id-1 input.sk-toggleable__control:checked~label.sk-toggleable__label-arrow:before {content: \"▾\";}#sk-container-id-1 div.sk-estimator input.sk-toggleable__control:checked~label.sk-toggleable__label {background-color: #d4ebff;}#sk-container-id-1 div.sk-label input.sk-toggleable__control:checked~label.sk-toggleable__label {background-color: #d4ebff;}#sk-container-id-1 input.sk-hidden--visually {border: 0;clip: rect(1px 1px 1px 1px);clip: rect(1px, 1px, 1px, 1px);height: 1px;margin: -1px;overflow: hidden;padding: 0;position: absolute;width: 1px;}#sk-container-id-1 div.sk-estimator {font-family: monospace;background-color: #f0f8ff;border: 1px dotted black;border-radius: 0.25em;box-sizing: border-box;margin-bottom: 0.5em;}#sk-container-id-1 div.sk-estimator:hover {background-color: #d4ebff;}#sk-container-id-1 div.sk-parallel-item::after {content: \"\";width: 100%;border-bottom: 1px solid gray;flex-grow: 1;}#sk-container-id-1 div.sk-label:hover label.sk-toggleable__label {background-color: #d4ebff;}#sk-container-id-1 div.sk-serial::before {content: \"\";position: absolute;border-left: 1px solid gray;box-sizing: border-box;top: 0;bottom: 0;left: 50%;z-index: 0;}#sk-container-id-1 div.sk-serial {display: flex;flex-direction: column;align-items: center;background-color: white;padding-right: 0.2em;padding-left: 0.2em;position: relative;}#sk-container-id-1 div.sk-item {position: relative;z-index: 1;}#sk-container-id-1 div.sk-parallel {display: flex;align-items: stretch;justify-content: center;background-color: white;position: relative;}#sk-container-id-1 div.sk-item::before, #sk-container-id-1 div.sk-parallel-item::before {content: \"\";position: absolute;border-left: 1px solid gray;box-sizing: border-box;top: 0;bottom: 0;left: 50%;z-index: -1;}#sk-container-id-1 div.sk-parallel-item {display: flex;flex-direction: column;z-index: 1;position: relative;background-color: white;}#sk-container-id-1 div.sk-parallel-item:first-child::after {align-self: flex-end;width: 50%;}#sk-container-id-1 div.sk-parallel-item:last-child::after {align-self: flex-start;width: 50%;}#sk-container-id-1 div.sk-parallel-item:only-child::after {width: 0;}#sk-container-id-1 div.sk-dashed-wrapped {border: 1px dashed gray;margin: 0 0.4em 0.5em 0.4em;box-sizing: border-box;padding-bottom: 0.4em;background-color: white;}#sk-container-id-1 div.sk-label label {font-family: monospace;font-weight: bold;display: inline-block;line-height: 1.2em;}#sk-container-id-1 div.sk-label-container {text-align: center;}#sk-container-id-1 div.sk-container {/* jupyter's `normalize.less` sets `[hidden] { display: none; }` but bootstrap.min.css set `[hidden] { display: none !important; }` so we also need the `!important` here to be able to override the default hidden behavior on the sphinx rendered scikit-learn.org. See: https://github.com/scikit-learn/scikit-learn/issues/21755 */display: inline-block !important;position: relative;}#sk-container-id-1 div.sk-text-repr-fallback {display: none;}</style><div id=\"sk-container-id-1\" class=\"sk-top-container\"><div class=\"sk-text-repr-fallback\"><pre>OneHotEncoder()</pre><b>In a Jupyter environment, please rerun this cell to show the HTML representation or trust the notebook. <br />On GitHub, the HTML representation is unable to render, please try loading this page with nbviewer.org.</b></div><div class=\"sk-container\" hidden><div class=\"sk-item\"><div class=\"sk-estimator sk-toggleable\"><input class=\"sk-toggleable__control sk-hidden--visually\" id=\"sk-estimator-id-1\" type=\"checkbox\" checked><label for=\"sk-estimator-id-1\" class=\"sk-toggleable__label sk-toggleable__label-arrow\">OneHotEncoder</label><div class=\"sk-toggleable__content\"><pre>OneHotEncoder()</pre></div></div></div></div></div>"
     },
     "execution_count": 12,
     "metadata": {},
     "output_type": "execute_result"
    }
   ],
   "source": [
    "x = df.drop(['Profit', 'Administration'], axis=1, inplace=False)\n",
    "y = df['Profit']\n",
    "numerical_columns = x.select_dtypes(include='number').columns\n",
    "categorical_columns = x.select_dtypes(include='object').columns\n",
    "ohe = OneHotEncoder()\n",
    "ohe.fit(x[categorical_columns])"
   ],
   "metadata": {
    "collapsed": false,
    "ExecuteTime": {
     "end_time": "2024-03-29T20:01:13.030491Z",
     "start_time": "2024-03-29T20:01:13.020081Z"
    }
   },
   "id": "a1e4de3eaff865cd",
   "execution_count": 12
  },
  {
   "cell_type": "code",
   "outputs": [
    {
     "data": {
      "text/plain": "Pipeline(steps=[('preprocessor',\n                 ColumnTransformer(transformers=[('num',\n                                                  Pipeline(steps=[('scaler',\n                                                                   StandardScaler())]),\n                                                  Index(['Research', 'Marketing'], dtype='object')),\n                                                 ('cat',\n                                                  Pipeline(steps=[('encoder',\n                                                                   OneHotEncoder())]),\n                                                  Index(['State'], dtype='object'))])),\n                ('regressor', LinearRegression())])",
      "text/html": "<style>#sk-container-id-2 {color: black;}#sk-container-id-2 pre{padding: 0;}#sk-container-id-2 div.sk-toggleable {background-color: white;}#sk-container-id-2 label.sk-toggleable__label {cursor: pointer;display: block;width: 100%;margin-bottom: 0;padding: 0.3em;box-sizing: border-box;text-align: center;}#sk-container-id-2 label.sk-toggleable__label-arrow:before {content: \"▸\";float: left;margin-right: 0.25em;color: #696969;}#sk-container-id-2 label.sk-toggleable__label-arrow:hover:before {color: black;}#sk-container-id-2 div.sk-estimator:hover label.sk-toggleable__label-arrow:before {color: black;}#sk-container-id-2 div.sk-toggleable__content {max-height: 0;max-width: 0;overflow: hidden;text-align: left;background-color: #f0f8ff;}#sk-container-id-2 div.sk-toggleable__content pre {margin: 0.2em;color: black;border-radius: 0.25em;background-color: #f0f8ff;}#sk-container-id-2 input.sk-toggleable__control:checked~div.sk-toggleable__content {max-height: 200px;max-width: 100%;overflow: auto;}#sk-container-id-2 input.sk-toggleable__control:checked~label.sk-toggleable__label-arrow:before {content: \"▾\";}#sk-container-id-2 div.sk-estimator input.sk-toggleable__control:checked~label.sk-toggleable__label {background-color: #d4ebff;}#sk-container-id-2 div.sk-label input.sk-toggleable__control:checked~label.sk-toggleable__label {background-color: #d4ebff;}#sk-container-id-2 input.sk-hidden--visually {border: 0;clip: rect(1px 1px 1px 1px);clip: rect(1px, 1px, 1px, 1px);height: 1px;margin: -1px;overflow: hidden;padding: 0;position: absolute;width: 1px;}#sk-container-id-2 div.sk-estimator {font-family: monospace;background-color: #f0f8ff;border: 1px dotted black;border-radius: 0.25em;box-sizing: border-box;margin-bottom: 0.5em;}#sk-container-id-2 div.sk-estimator:hover {background-color: #d4ebff;}#sk-container-id-2 div.sk-parallel-item::after {content: \"\";width: 100%;border-bottom: 1px solid gray;flex-grow: 1;}#sk-container-id-2 div.sk-label:hover label.sk-toggleable__label {background-color: #d4ebff;}#sk-container-id-2 div.sk-serial::before {content: \"\";position: absolute;border-left: 1px solid gray;box-sizing: border-box;top: 0;bottom: 0;left: 50%;z-index: 0;}#sk-container-id-2 div.sk-serial {display: flex;flex-direction: column;align-items: center;background-color: white;padding-right: 0.2em;padding-left: 0.2em;position: relative;}#sk-container-id-2 div.sk-item {position: relative;z-index: 1;}#sk-container-id-2 div.sk-parallel {display: flex;align-items: stretch;justify-content: center;background-color: white;position: relative;}#sk-container-id-2 div.sk-item::before, #sk-container-id-2 div.sk-parallel-item::before {content: \"\";position: absolute;border-left: 1px solid gray;box-sizing: border-box;top: 0;bottom: 0;left: 50%;z-index: -1;}#sk-container-id-2 div.sk-parallel-item {display: flex;flex-direction: column;z-index: 1;position: relative;background-color: white;}#sk-container-id-2 div.sk-parallel-item:first-child::after {align-self: flex-end;width: 50%;}#sk-container-id-2 div.sk-parallel-item:last-child::after {align-self: flex-start;width: 50%;}#sk-container-id-2 div.sk-parallel-item:only-child::after {width: 0;}#sk-container-id-2 div.sk-dashed-wrapped {border: 1px dashed gray;margin: 0 0.4em 0.5em 0.4em;box-sizing: border-box;padding-bottom: 0.4em;background-color: white;}#sk-container-id-2 div.sk-label label {font-family: monospace;font-weight: bold;display: inline-block;line-height: 1.2em;}#sk-container-id-2 div.sk-label-container {text-align: center;}#sk-container-id-2 div.sk-container {/* jupyter's `normalize.less` sets `[hidden] { display: none; }` but bootstrap.min.css set `[hidden] { display: none !important; }` so we also need the `!important` here to be able to override the default hidden behavior on the sphinx rendered scikit-learn.org. See: https://github.com/scikit-learn/scikit-learn/issues/21755 */display: inline-block !important;position: relative;}#sk-container-id-2 div.sk-text-repr-fallback {display: none;}</style><div id=\"sk-container-id-2\" class=\"sk-top-container\"><div class=\"sk-text-repr-fallback\"><pre>Pipeline(steps=[(&#x27;preprocessor&#x27;,\n                 ColumnTransformer(transformers=[(&#x27;num&#x27;,\n                                                  Pipeline(steps=[(&#x27;scaler&#x27;,\n                                                                   StandardScaler())]),\n                                                  Index([&#x27;Research&#x27;, &#x27;Marketing&#x27;], dtype=&#x27;object&#x27;)),\n                                                 (&#x27;cat&#x27;,\n                                                  Pipeline(steps=[(&#x27;encoder&#x27;,\n                                                                   OneHotEncoder())]),\n                                                  Index([&#x27;State&#x27;], dtype=&#x27;object&#x27;))])),\n                (&#x27;regressor&#x27;, LinearRegression())])</pre><b>In a Jupyter environment, please rerun this cell to show the HTML representation or trust the notebook. <br />On GitHub, the HTML representation is unable to render, please try loading this page with nbviewer.org.</b></div><div class=\"sk-container\" hidden><div class=\"sk-item sk-dashed-wrapped\"><div class=\"sk-label-container\"><div class=\"sk-label sk-toggleable\"><input class=\"sk-toggleable__control sk-hidden--visually\" id=\"sk-estimator-id-2\" type=\"checkbox\" ><label for=\"sk-estimator-id-2\" class=\"sk-toggleable__label sk-toggleable__label-arrow\">Pipeline</label><div class=\"sk-toggleable__content\"><pre>Pipeline(steps=[(&#x27;preprocessor&#x27;,\n                 ColumnTransformer(transformers=[(&#x27;num&#x27;,\n                                                  Pipeline(steps=[(&#x27;scaler&#x27;,\n                                                                   StandardScaler())]),\n                                                  Index([&#x27;Research&#x27;, &#x27;Marketing&#x27;], dtype=&#x27;object&#x27;)),\n                                                 (&#x27;cat&#x27;,\n                                                  Pipeline(steps=[(&#x27;encoder&#x27;,\n                                                                   OneHotEncoder())]),\n                                                  Index([&#x27;State&#x27;], dtype=&#x27;object&#x27;))])),\n                (&#x27;regressor&#x27;, LinearRegression())])</pre></div></div></div><div class=\"sk-serial\"><div class=\"sk-item sk-dashed-wrapped\"><div class=\"sk-label-container\"><div class=\"sk-label sk-toggleable\"><input class=\"sk-toggleable__control sk-hidden--visually\" id=\"sk-estimator-id-3\" type=\"checkbox\" ><label for=\"sk-estimator-id-3\" class=\"sk-toggleable__label sk-toggleable__label-arrow\">preprocessor: ColumnTransformer</label><div class=\"sk-toggleable__content\"><pre>ColumnTransformer(transformers=[(&#x27;num&#x27;,\n                                 Pipeline(steps=[(&#x27;scaler&#x27;, StandardScaler())]),\n                                 Index([&#x27;Research&#x27;, &#x27;Marketing&#x27;], dtype=&#x27;object&#x27;)),\n                                (&#x27;cat&#x27;,\n                                 Pipeline(steps=[(&#x27;encoder&#x27;, OneHotEncoder())]),\n                                 Index([&#x27;State&#x27;], dtype=&#x27;object&#x27;))])</pre></div></div></div><div class=\"sk-parallel\"><div class=\"sk-parallel-item\"><div class=\"sk-item\"><div class=\"sk-label-container\"><div class=\"sk-label sk-toggleable\"><input class=\"sk-toggleable__control sk-hidden--visually\" id=\"sk-estimator-id-4\" type=\"checkbox\" ><label for=\"sk-estimator-id-4\" class=\"sk-toggleable__label sk-toggleable__label-arrow\">num</label><div class=\"sk-toggleable__content\"><pre>Index([&#x27;Research&#x27;, &#x27;Marketing&#x27;], dtype=&#x27;object&#x27;)</pre></div></div></div><div class=\"sk-serial\"><div class=\"sk-item\"><div class=\"sk-serial\"><div class=\"sk-item\"><div class=\"sk-estimator sk-toggleable\"><input class=\"sk-toggleable__control sk-hidden--visually\" id=\"sk-estimator-id-5\" type=\"checkbox\" ><label for=\"sk-estimator-id-5\" class=\"sk-toggleable__label sk-toggleable__label-arrow\">StandardScaler</label><div class=\"sk-toggleable__content\"><pre>StandardScaler()</pre></div></div></div></div></div></div></div></div><div class=\"sk-parallel-item\"><div class=\"sk-item\"><div class=\"sk-label-container\"><div class=\"sk-label sk-toggleable\"><input class=\"sk-toggleable__control sk-hidden--visually\" id=\"sk-estimator-id-6\" type=\"checkbox\" ><label for=\"sk-estimator-id-6\" class=\"sk-toggleable__label sk-toggleable__label-arrow\">cat</label><div class=\"sk-toggleable__content\"><pre>Index([&#x27;State&#x27;], dtype=&#x27;object&#x27;)</pre></div></div></div><div class=\"sk-serial\"><div class=\"sk-item\"><div class=\"sk-serial\"><div class=\"sk-item\"><div class=\"sk-estimator sk-toggleable\"><input class=\"sk-toggleable__control sk-hidden--visually\" id=\"sk-estimator-id-7\" type=\"checkbox\" ><label for=\"sk-estimator-id-7\" class=\"sk-toggleable__label sk-toggleable__label-arrow\">OneHotEncoder</label><div class=\"sk-toggleable__content\"><pre>OneHotEncoder()</pre></div></div></div></div></div></div></div></div></div></div><div class=\"sk-item\"><div class=\"sk-estimator sk-toggleable\"><input class=\"sk-toggleable__control sk-hidden--visually\" id=\"sk-estimator-id-8\" type=\"checkbox\" ><label for=\"sk-estimator-id-8\" class=\"sk-toggleable__label sk-toggleable__label-arrow\">LinearRegression</label><div class=\"sk-toggleable__content\"><pre>LinearRegression()</pre></div></div></div></div></div></div></div>"
     },
     "execution_count": 13,
     "metadata": {},
     "output_type": "execute_result"
    }
   ],
   "source": [
    "numerical_pipeline = Pipeline([\n",
    "    ('scaler', StandardScaler())\n",
    "])\n",
    "categorical_pipeline = Pipeline([\n",
    "    ('encoder', ohe)\n",
    "])\n",
    "preprocessor = ColumnTransformer([\n",
    "    ('num', numerical_pipeline, numerical_columns),\n",
    "    ('cat', categorical_pipeline, categorical_columns),\n",
    "])\n",
    "model = Pipeline([\n",
    "    ('preprocessor', preprocessor),\n",
    "    ('regressor', LinearRegression())\n",
    "])\n",
    "model"
   ],
   "metadata": {
    "collapsed": false,
    "ExecuteTime": {
     "end_time": "2024-03-29T20:01:13.051242Z",
     "start_time": "2024-03-29T20:01:13.032172Z"
    }
   },
   "id": "ae9bcbc1638497c6",
   "execution_count": 13
  },
  {
   "cell_type": "markdown",
   "source": [
    "#### Step 4: Calculating Model's Accuracy"
   ],
   "metadata": {
    "collapsed": false
   },
   "id": "b38ba1a3c65a5c1c"
  },
  {
   "cell_type": "markdown",
   "source": [
    "Split the dataset into training and testing data."
   ],
   "metadata": {
    "collapsed": false
   },
   "id": "c1a276a4c70a5347"
  },
  {
   "cell_type": "code",
   "outputs": [],
   "source": [
    "x_train, x_test, y_train, y_test = train_test_split(x, y, test_size=0.2, random_state=0)"
   ],
   "metadata": {
    "collapsed": false,
    "ExecuteTime": {
     "end_time": "2024-03-29T20:01:13.062930Z",
     "start_time": "2024-03-29T20:01:13.056564Z"
    }
   },
   "id": "1c20170660f22300",
   "execution_count": 14
  },
  {
   "cell_type": "markdown",
   "source": [
    "Fit the model on the training data"
   ],
   "metadata": {
    "collapsed": false
   },
   "id": "5581d5712d8596f5"
  },
  {
   "cell_type": "code",
   "outputs": [],
   "source": [
    "model.fit(x_train, y_train)\n",
    "y_train_prediction = model.predict(x_train)\n",
    "y_test_prediction = model.predict(x_test)"
   ],
   "metadata": {
    "collapsed": false,
    "ExecuteTime": {
     "end_time": "2024-03-29T20:01:13.084525Z",
     "start_time": "2024-03-29T20:01:13.064559Z"
    }
   },
   "id": "2110dde0a57a09b4",
   "execution_count": 15
  },
  {
   "cell_type": "code",
   "outputs": [
    {
     "name": "stdout",
     "output_type": "stream",
     "text": [
      "Training Results\n",
      "MSE: 82158239.56230998\n",
      "MAE: 6328.506840297718\n",
      "R2: 0.9498261378977877\n"
     ]
    }
   ],
   "source": [
    "print(\"Training Results\")\n",
    "print(\"MSE:\", mean_squared_error(y_train, y_train_prediction))\n",
    "print(\"MAE:\", mean_absolute_error(y_train, y_train_prediction))\n",
    "print(\"R2:\", r2_score(y_train, y_train_prediction))"
   ],
   "metadata": {
    "collapsed": false,
    "ExecuteTime": {
     "end_time": "2024-03-29T20:01:13.093004Z",
     "start_time": "2024-03-29T20:01:13.086739Z"
    }
   },
   "id": "5b9dd6547ffa64eb",
   "execution_count": 16
  },
  {
   "cell_type": "code",
   "outputs": [
    {
     "name": "stdout",
     "output_type": "stream",
     "text": [
      "Testing Results\n",
      "MSE: 70726699.14473002\n",
      "MAE: 7109.161997630462\n",
      "R2: 0.9446968769427515\n"
     ]
    }
   ],
   "source": [
    "print(\"Testing Results\")\n",
    "print(\"MSE:\", mean_squared_error(y_test, y_test_prediction))\n",
    "print(\"MAE:\", mean_absolute_error(y_test, y_test_prediction))\n",
    "print(\"R2:\", r2_score(y_test, y_test_prediction))"
   ],
   "metadata": {
    "collapsed": false,
    "ExecuteTime": {
     "end_time": "2024-03-29T20:01:13.098997Z",
     "start_time": "2024-03-29T20:01:13.094628Z"
    }
   },
   "id": "a5f68525fef15102",
   "execution_count": 17
  },
  {
   "cell_type": "markdown",
   "source": [
    "#### Step 5: Saving the Model and Encoder"
   ],
   "metadata": {
    "collapsed": false
   },
   "id": "8b581df98bb9184f"
  },
  {
   "cell_type": "code",
   "outputs": [
    {
     "data": {
      "text/plain": "['profit_encoder.pkl']"
     },
     "execution_count": 18,
     "metadata": {},
     "output_type": "execute_result"
    }
   ],
   "source": [
    "joblib.dump(model, 'profit_model.pkl')\n",
    "joblib.dump(ohe, 'profit_encoder.pkl')"
   ],
   "metadata": {
    "collapsed": false,
    "ExecuteTime": {
     "end_time": "2024-03-29T20:01:13.112495Z",
     "start_time": "2024-03-29T20:01:13.101268Z"
    }
   },
   "id": "98479e41f19865c3",
   "execution_count": 18
  },
  {
   "cell_type": "markdown",
   "source": [
    "#### Step 6: Creating Interface using Gradio"
   ],
   "metadata": {
    "collapsed": false
   },
   "id": "1a602aa5ac53cb73"
  },
  {
   "cell_type": "code",
   "outputs": [],
   "source": [
    "def predict_profit(research: int, marketing: int, state: str):\n",
    "    profit_prediction_model = joblib.load('profit_model.pkl')\n",
    "    data = pd.DataFrame({\n",
    "        'Research': [research],\n",
    "        'Marketing': [marketing],\n",
    "        'State': [state]\n",
    "    })\n",
    "    prediction = profit_prediction_model.predict(data)\n",
    "    return f\"${prediction[0]:.2f}\""
   ],
   "metadata": {
    "collapsed": false,
    "ExecuteTime": {
     "end_time": "2024-03-29T20:01:13.119424Z",
     "start_time": "2024-03-29T20:01:13.113915Z"
    }
   },
   "id": "8865dddfdc1784a8",
   "execution_count": 19
  },
  {
   "cell_type": "code",
   "outputs": [
    {
     "data": {
      "text/plain": "'$127412.40'"
     },
     "execution_count": 20,
     "metadata": {},
     "output_type": "execute_result"
    }
   ],
   "source": [
    "predict_profit(100000, 100000, 'Florida')"
   ],
   "metadata": {
    "collapsed": false,
    "ExecuteTime": {
     "end_time": "2024-03-29T20:01:13.131026Z",
     "start_time": "2024-03-29T20:01:13.122060Z"
    }
   },
   "id": "cda884ffa5ca85e6",
   "execution_count": 20
  },
  {
   "cell_type": "code",
   "outputs": [],
   "source": [
    "iface = gr.Interface(\n",
    "    fn=predict_profit,\n",
    "    inputs=[\n",
    "        gr.components.Number(label='Research'),\n",
    "        gr.components.Number(label='Marketing'),\n",
    "        gr.components.Dropdown(label='State', choices=np.unique(x['State']).tolist())\n",
    "    ],\n",
    "    outputs=gr.components.Textbox(label='Profit'),\n",
    "    title='Profit Estimation',\n",
    "    description='Enter the details to get the profit'\n",
    ")"
   ],
   "metadata": {
    "collapsed": false,
    "ExecuteTime": {
     "end_time": "2024-03-29T20:01:24.557649Z",
     "start_time": "2024-03-29T20:01:24.534893Z"
    }
   },
   "id": "2751de92f44be0ce",
   "execution_count": 21
  },
  {
   "cell_type": "code",
   "outputs": [
    {
     "name": "stdout",
     "output_type": "stream",
     "text": [
      "Running on local URL:  http://127.0.0.1:7860\n",
      "\n",
      "To create a public link, set `share=True` in `launch()`.\n"
     ]
    },
    {
     "data": {
      "text/plain": "<IPython.core.display.HTML object>",
      "text/html": "<div><iframe src=\"http://127.0.0.1:7860/\" width=\"100%\" height=\"500\" allow=\"autoplay; camera; microphone; clipboard-read; clipboard-write;\" frameborder=\"0\" allowfullscreen></iframe></div>"
     },
     "metadata": {},
     "output_type": "display_data"
    },
    {
     "data": {
      "text/plain": ""
     },
     "execution_count": 22,
     "metadata": {},
     "output_type": "execute_result"
    }
   ],
   "source": [
    "iface.launch()"
   ],
   "metadata": {
    "collapsed": false,
    "ExecuteTime": {
     "end_time": "2024-03-29T20:01:26.331721Z",
     "start_time": "2024-03-29T20:01:26.288341Z"
    }
   },
   "id": "bb23df4655fade79",
   "execution_count": 22
  }
 ],
 "metadata": {
  "kernelspec": {
   "display_name": "Python 3",
   "language": "python",
   "name": "python3"
  },
  "language_info": {
   "codemirror_mode": {
    "name": "ipython",
    "version": 2
   },
   "file_extension": ".py",
   "mimetype": "text/x-python",
   "name": "python",
   "nbconvert_exporter": "python",
   "pygments_lexer": "ipython2",
   "version": "2.7.6"
  }
 },
 "nbformat": 4,
 "nbformat_minor": 5
}
